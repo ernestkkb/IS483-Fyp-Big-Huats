{
 "cells": [
  {
   "cell_type": "code",
   "execution_count": 1,
   "metadata": {},
   "outputs": [],
   "source": [
    "import pandas as pd\n",
    "import numpy as np\n",
    "from sklearn.model_selection import train_test_split\n",
    "from sklearn.feature_extraction.text import CountVectorizer, TfidfVectorizer, TfidfTransformer\n",
    "\n",
    "import seaborn as sns\n",
    "import matplotlib.pyplot as plt\n",
    "import shap\n",
    "from tqdm import tqdm,tqdm_notebook\n",
    "import re\n",
    "from nltk.stem import WordNetLemmatizer, SnowballStemmer,PorterStemmer\n",
    "from nltk.stem.porter import *\n",
    "import nltk\n",
    "from nltk.corpus import stopwords\n",
    "from nltk.tokenize import word_tokenize\n",
    "# ML Libs...\n",
    "from sklearn.model_selection import train_test_split\n",
    "from sklearn.preprocessing import StandardScaler, MinMaxScaler, LabelEncoder"
   ]
  },
  {
   "cell_type": "code",
   "execution_count": 2,
   "metadata": {},
   "outputs": [
    {
     "name": "stdout",
     "output_type": "stream",
     "text": [
      "CWD is  /home/ec2-user/IS434\n"
     ]
    }
   ],
   "source": [
    "#ref - https://stackoverflow.com/questions/14463277/how-to-disable-python-warnings\n",
    "\n",
    "# Basic Libs..\n",
    "import warnings\n",
    "warnings.filterwarnings(\"ignore\")\n",
    "import math\n",
    "import pandas as pd\n",
    "import numpy as np\n",
    "import scipy\n",
    "import scipy.sparse\n",
    "from tqdm import tqdm,tqdm_notebook\n",
    "import pickle\n",
    "import os\n",
    "print('CWD is ',os.getcwd())\n",
    "\n",
    "# Vis Libs..\n",
    "import seaborn as sns\n",
    "import matplotlib.pyplot as plt\n",
    "from wordcloud import WordCloud\n",
    "\n",
    "# Text Libs..\n",
    "import re\n",
    "from gensim import corpora, models\n",
    "import gensim\n",
    "from gensim.utils import simple_preprocess\n",
    "from gensim.parsing.preprocessing import STOPWORDS\n",
    "from nltk.stem import WordNetLemmatizer, SnowballStemmer,PorterStemmer\n",
    "from nltk.stem.porter import *\n",
    "import nltk\n",
    "from nltk.sentiment.vader import SentimentIntensityAnalyzer\n",
    "from sklearn.feature_extraction.text import CountVectorizer,TfidfVectorizer\n",
    "from sklearn.preprocessing import LabelBinarizer\n",
    "from nltk.corpus import stopwords\n",
    "from nltk.tokenize import word_tokenize\n",
    "# ML Libs...\n",
    "from sklearn.model_selection import train_test_split\n",
    "from sklearn.preprocessing import StandardScaler, MinMaxScaler, LabelEncoder\n",
    "\n",
    "# DL Libs.."
   ]
  },
  {
   "cell_type": "code",
   "execution_count": 3,
   "metadata": {},
   "outputs": [],
   "source": [
    "df_train = pd.read_csv('train.tsv', '\\t')\n",
    "df_train = df_train.sample(n = 500_000)\n",
    "df_train_split ,df_test_split = train_test_split(df_train,test_size = 0.25)"
   ]
  },
  {
   "cell_type": "code",
   "execution_count": 4,
   "metadata": {},
   "outputs": [
    {
     "name": "stdout",
     "output_type": "stream",
     "text": [
      "<class 'pandas.core.frame.DataFrame'>\n",
      "Int64Index: 500000 entries, 180987 to 1373480\n",
      "Data columns (total 8 columns):\n",
      " #   Column             Non-Null Count   Dtype  \n",
      "---  ------             --------------   -----  \n",
      " 0   train_id           500000 non-null  int64  \n",
      " 1   name               500000 non-null  object \n",
      " 2   item_condition_id  500000 non-null  int64  \n",
      " 3   category_name      497852 non-null  object \n",
      " 4   brand_name         286818 non-null  object \n",
      " 5   price              500000 non-null  float64\n",
      " 6   shipping           500000 non-null  int64  \n",
      " 7   item_description   499997 non-null  object \n",
      "dtypes: float64(1), int64(3), object(4)\n",
      "memory usage: 34.3+ MB\n"
     ]
    }
   ],
   "source": [
    "df_train.info()"
   ]
  },
  {
   "cell_type": "code",
   "execution_count": null,
   "metadata": {},
   "outputs": [],
   "source": []
  },
  {
   "cell_type": "code",
   "execution_count": 5,
   "metadata": {},
   "outputs": [],
   "source": [
    "def fill_missing_data(data):\n",
    "    data.brand_name.fillna(value = \"Missing\", inplace = True)\n",
    "    data.category_name.fillna(value = \"Missing\", inplace = True)\n",
    "\n",
    "fill_missing_data(df_train_split)\n",
    "fill_missing_data(df_test_split)"
   ]
  },
  {
   "cell_type": "code",
   "execution_count": null,
   "metadata": {},
   "outputs": [],
   "source": []
  },
  {
   "cell_type": "code",
   "execution_count": 6,
   "metadata": {},
   "outputs": [
    {
     "data": {
      "text/plain": [
       "train_id             233\n",
       "name                 233\n",
       "item_condition_id    233\n",
       "category_name        233\n",
       "brand_name           233\n",
       "price                233\n",
       "shipping             233\n",
       "item_description     233\n",
       "dtype: int64"
      ]
     },
     "execution_count": 6,
     "metadata": {},
     "output_type": "execute_result"
    }
   ],
   "source": [
    "df_train_split[df_train_split[\"price\"] < 3].count()"
   ]
  },
  {
   "cell_type": "code",
   "execution_count": 7,
   "metadata": {},
   "outputs": [
    {
     "data": {
      "text/plain": [
       "train_id             1\n",
       "name                 1\n",
       "item_condition_id    1\n",
       "category_name        1\n",
       "brand_name           1\n",
       "price                1\n",
       "shipping             1\n",
       "item_description     1\n",
       "dtype: int64"
      ]
     },
     "execution_count": 7,
     "metadata": {},
     "output_type": "execute_result"
    }
   ],
   "source": [
    "df_train_split[df_train_split[\"price\"] > 2000].count()"
   ]
  },
  {
   "cell_type": "code",
   "execution_count": 8,
   "metadata": {},
   "outputs": [],
   "source": [
    "df_train_split = df_train_split[(df_train_split.price >= 3)]\n",
    "df_test_split = df_test_split[(df_test_split.price >= 3)]"
   ]
  },
  {
   "cell_type": "code",
   "execution_count": 9,
   "metadata": {},
   "outputs": [],
   "source": [
    "df_train_split['log_price'] = np.log1p(df_train_split['price'])\n",
    "df_test_split['log_price'] = np.log1p(df_test_split['price'])"
   ]
  },
  {
   "cell_type": "code",
   "execution_count": null,
   "metadata": {},
   "outputs": [],
   "source": []
  },
  {
   "cell_type": "code",
   "execution_count": 10,
   "metadata": {},
   "outputs": [],
   "source": [
    "# function to decontract phrases\n",
    "#https://stackoverflow.com/questions/43018030/replace-apostrophe-short-words-in-python\n",
    "def decontracted(phrase):\n",
    "    # specific\n",
    "    phrase = re.sub(r\"won\\'t\", \"will not\", phrase)\n",
    "    phrase = re.sub(r\"can\\'t\", \"can not\", phrase)\n",
    "\n",
    "    # general\n",
    "    phrase = re.sub(r\"n\\'t\", \" not\", phrase)\n",
    "    phrase = re.sub(r\"\\'re\", \" are\", phrase)\n",
    "    phrase = re.sub(r\"\\'s\", \" is\", phrase)\n",
    "    phrase = re.sub(r\"\\'d\", \" would\", phrase)\n",
    "    phrase = re.sub(r\"\\'ll\", \" will\", phrase)\n",
    "    phrase = re.sub(r\"\\'t\", \" not\", phrase)\n",
    "    phrase = re.sub(r\"\\'ve\", \" have\", phrase)\n",
    "    phrase = re.sub(r\"\\'m\", \" am\", phrase)\n",
    "    return phrase\n",
    "\n",
    "def text_process(text):\n",
    "    stop_words = stopwords.words('english')\n",
    "    processed = []\n",
    "    desc_length_tokenized = []\n",
    "    for sentence in tqdm_notebook(text):\n",
    "        sentence_decontracted = decontracted(sentence)\n",
    "        sentence_decontracted = sentence_decontracted.replace('\\\\\"', ' ')\n",
    "        sentence_decontracted = sentence_decontracted.replace('\\\\`', ' ')\n",
    "        sentence_decontracted = re.sub(r\"[^0-9a-zA-Z]+\", ' ', sentence_decontracted)\n",
    "        text_tokens = word_tokenize(sentence_decontracted)\n",
    "        desc_length_tokenized.append(len(text_tokens))\n",
    "        joined_words = \" \".join(word for word in text_tokens if word not in stop_words)\n",
    "        processed.append(joined_words)\n",
    "    return processed, desc_length_tokenized"
   ]
  },
  {
   "cell_type": "code",
   "execution_count": 11,
   "metadata": {},
   "outputs": [],
   "source": [
    "df_train_split['item_description'] = df_train_split['item_description'].replace([np.nan],\"No Description\")\n",
    "df_test_split['item_description'] = df_test_split['item_description'].replace([np.nan],\"No Description\")"
   ]
  },
  {
   "cell_type": "code",
   "execution_count": 12,
   "metadata": {},
   "outputs": [
    {
     "data": {
      "application/vnd.jupyter.widget-view+json": {
       "model_id": "ee308bd60bda4f9e988b087680fcd32b",
       "version_major": 2,
       "version_minor": 0
      },
      "text/plain": [
       "HBox(children=(HTML(value=''), FloatProgress(value=0.0, max=374767.0), HTML(value='')))"
      ]
     },
     "metadata": {},
     "output_type": "display_data"
    },
    {
     "name": "stdout",
     "output_type": "stream",
     "text": [
      "\n"
     ]
    },
    {
     "data": {
      "application/vnd.jupyter.widget-view+json": {
       "model_id": "ad6646bf2dad483cb991aabfae170388",
       "version_major": 2,
       "version_minor": 0
      },
      "text/plain": [
       "HBox(children=(HTML(value=''), FloatProgress(value=0.0, max=124927.0), HTML(value='')))"
      ]
     },
     "metadata": {},
     "output_type": "display_data"
    },
    {
     "name": "stdout",
     "output_type": "stream",
     "text": [
      "\n"
     ]
    }
   ],
   "source": [
    "df_train_split['item_desc_processed'], df_train_split['item_desc_length_tokenized'] = text_process(df_train_split['item_description'])\n",
    "df_test_split['item_desc_processed'], df_test_split['item_desc_length_tokenized'] = text_process(df_test_split['item_description'])"
   ]
  },
  {
   "cell_type": "code",
   "execution_count": 13,
   "metadata": {},
   "outputs": [],
   "source": [
    "def generate_sentiment_scores(sentences):\n",
    "    analyzer = SentimentIntensityAnalyzer()\n",
    "    results = []\n",
    "    for sentence in tqdm_notebook(sentences): \n",
    "        sentence_sentiment_score = analyzer.polarity_scores(sentence)\n",
    "        results.append(sentence_sentiment_score)\n",
    "    return results"
   ]
  },
  {
   "cell_type": "code",
   "execution_count": 14,
   "metadata": {},
   "outputs": [
    {
     "data": {
      "application/vnd.jupyter.widget-view+json": {
       "model_id": "271c1022d5764ddd82bf4a801b91416a",
       "version_major": 2,
       "version_minor": 0
      },
      "text/plain": [
       "HBox(children=(HTML(value=''), FloatProgress(value=0.0, max=374767.0), HTML(value='')))"
      ]
     },
     "metadata": {},
     "output_type": "display_data"
    },
    {
     "name": "stdout",
     "output_type": "stream",
     "text": [
      "\n"
     ]
    },
    {
     "data": {
      "application/vnd.jupyter.widget-view+json": {
       "model_id": "d2331a83f27b4eaa95266e018f09dda1",
       "version_major": 2,
       "version_minor": 0
      },
      "text/plain": [
       "HBox(children=(HTML(value=''), FloatProgress(value=0.0, max=124927.0), HTML(value='')))"
      ]
     },
     "metadata": {},
     "output_type": "display_data"
    },
    {
     "name": "stdout",
     "output_type": "stream",
     "text": [
      "\n"
     ]
    }
   ],
   "source": [
    "train_senti_desc = generate_sentiment_scores(df_train_split['item_description'])\n",
    "test_senti_desc = generate_sentiment_scores(df_test_split['item_description'])"
   ]
  },
  {
   "cell_type": "code",
   "execution_count": 15,
   "metadata": {},
   "outputs": [],
   "source": [
    "def get_sentiments(dataframe, array):\n",
    "    negative, neutral, compound, positive = [], [], [], []\n",
    "    for sentiment_dict in array:\n",
    "        for sentiment, score in sentiment_dict.items():\n",
    "            if(sentiment=='neg'):\n",
    "                negative.append(score)\n",
    "            elif(sentiment=='neu'):\n",
    "                neutral.append(score)\n",
    "            elif(sentiment=='compound'):\n",
    "                compound.append(score)\n",
    "            elif(sentiment=='pos'):\n",
    "                positive.append(score)\n",
    "    dataframe['negative'] = negative\n",
    "    dataframe['positive'] = positive\n",
    "    dataframe['neutral'] = neutral\n",
    "    dataframe['compound'] = compound"
   ]
  },
  {
   "cell_type": "code",
   "execution_count": 16,
   "metadata": {},
   "outputs": [],
   "source": [
    "get_sentiments(df_train_split,train_senti_desc)\n",
    "get_sentiments(df_test_split,test_senti_desc)"
   ]
  },
  {
   "cell_type": "code",
   "execution_count": 17,
   "metadata": {},
   "outputs": [],
   "source": [
    "def get_description_features(dataframe, sentence_df):\n",
    "    percentage_of_exclamation_marks, percentage_of_star, percentage_of_ampersand, percentage_of_hashtag = [], [], [], []\n",
    "    for description in sentence_df:\n",
    "        hashtag_regex = re.compile(r'(#[a-z]{2,})')\n",
    "        percentage_of_exclamation_marks.append(description.count('!')/len(description) * 100)\n",
    "        percentage_of_star.append(description.count(\"*\")/len(description)*100)\n",
    "        percentage_of_ampersand.append(description.count(\"%\")/len(description)*100)\n",
    "        percentage_of_hashtag.append(len(hashtag_regex.findall(description))/len(description)*100)\n",
    "    dataframe['percentage_of_exclamation_marks'] = percentage_of_exclamation_marks\n",
    "    dataframe['percentage_of_star'] = percentage_of_star\n",
    "    dataframe['percentage_of_ampersand'] = percentage_of_ampersand\n",
    "    dataframe['percentage_of_hashtag'] = percentage_of_hashtag"
   ]
  },
  {
   "cell_type": "code",
   "execution_count": 18,
   "metadata": {},
   "outputs": [],
   "source": [
    "get_description_features(df_train_split,df_train_split['item_description'])\n",
    "get_description_features(df_test_split,df_test_split['item_description'])"
   ]
  },
  {
   "cell_type": "code",
   "execution_count": 19,
   "metadata": {},
   "outputs": [],
   "source": [
    "tfidf_vectorizer=TfidfVectorizer(ngram_range=(1,3), min_df = 10, max_features=5000, use_idf=True) \n",
    "tfidf_vectorizer_vectors_train = tfidf_vectorizer.fit_transform(df_train_split['item_desc_processed'])\n",
    "tfidf_vectorizer_vectors_test =tfidf_vectorizer.transform(df_test_split['item_desc_processed'])\n",
    "\n",
    "\n",
    "X_train = tfidf_vectorizer_vectors_train\n",
    "X_test = tfidf_vectorizer_vectors_test\n",
    "\n",
    "y_train = df_train_split['log_price']\n",
    "y_test = df_test_split['log_price']"
   ]
  },
  {
   "cell_type": "code",
   "execution_count": 20,
   "metadata": {},
   "outputs": [
    {
     "name": "stdout",
     "output_type": "stream",
     "text": [
      "  (0, 1387)\t0.28856079083905173\n",
      "  (0, 3932)\t0.2900361642569315\n",
      "  (0, 998)\t0.22115963091232585\n",
      "  (0, 1386)\t0.1785088514784899\n",
      "  (0, 4013)\t0.1722104426674653\n",
      "  (0, 2105)\t0.2998172474170925\n",
      "  (0, 1806)\t0.30857461573437495\n",
      "  (0, 4783)\t0.1583007056347804\n",
      "  (0, 3931)\t0.25879818468160565\n",
      "  (0, 2840)\t0.1117419269691218\n",
      "  (0, 972)\t0.1049768773514481\n",
      "  (0, 1385)\t0.1676977923869877\n",
      "  (0, 4069)\t0.13666180427097693\n",
      "  (0, 3956)\t0.08733933798725786\n",
      "  (0, 4809)\t0.15053849354178708\n",
      "  (0, 1803)\t0.181942267551776\n",
      "  (0, 2099)\t0.320112502973337\n",
      "  (0, 3898)\t0.17713781813463012\n",
      "  (0, 567)\t0.1903156640787894\n",
      "  (0, 1137)\t0.1525943585310308\n",
      "  (0, 4722)\t0.2959059352379891\n",
      "  (0, 4971)\t0.17441431516426412\n",
      "  (1, 1793)\t0.30482209843539315\n",
      "  (1, 4901)\t0.32395107004604734\n",
      "  (1, 3957)\t0.24914288719820563\n",
      "  :\t:\n",
      "  (374765, 4421)\t0.2562321151104204\n",
      "  (374765, 1772)\t0.3162170576409916\n",
      "  (374765, 3820)\t0.24817868119638922\n",
      "  (374765, 2264)\t0.2309723295429906\n",
      "  (374765, 1766)\t0.1661499715385973\n",
      "  (374765, 1112)\t0.34308443478124767\n",
      "  (374765, 383)\t0.2081536088594142\n",
      "  (374765, 534)\t0.2275366801145116\n",
      "  (374765, 1111)\t0.28886748268344953\n",
      "  (374765, 1789)\t0.15038907657505463\n",
      "  (374766, 515)\t0.2104082784839315\n",
      "  (374766, 2350)\t0.21355915619618912\n",
      "  (374766, 436)\t0.18675561639351937\n",
      "  (374766, 4580)\t0.17596598125664303\n",
      "  (374766, 308)\t0.17815272232178553\n",
      "  (374766, 4200)\t0.49643032680158133\n",
      "  (374766, 1571)\t0.1824774693683071\n",
      "  (374766, 109)\t0.20261809306406953\n",
      "  (374766, 38)\t0.1492636053639692\n",
      "  (374766, 1783)\t0.20686895060309712\n",
      "  (374766, 2505)\t0.5741639168283449\n",
      "  (374766, 58)\t0.18454404979821662\n",
      "  (374766, 782)\t0.1640503071539393\n",
      "  (374766, 2976)\t0.14718662717590753\n",
      "  (374766, 2389)\t0.11989192309285107\n"
     ]
    }
   ],
   "source": [
    "print(tfidf_vectorizer_vectors_train)"
   ]
  },
  {
   "cell_type": "code",
   "execution_count": 21,
   "metadata": {},
   "outputs": [
    {
     "name": "stdout",
     "output_type": "stream",
     "text": [
      "1009958    2.397895\n",
      "872123     3.737670\n",
      "612286     3.332205\n",
      "862825     5.398163\n",
      "603962     3.295837\n",
      "             ...   \n",
      "944441     2.772589\n",
      "490706     4.025352\n",
      "1271202    2.302585\n",
      "349049     3.610918\n",
      "1249346    5.393628\n",
      "Name: log_price, Length: 374767, dtype: float64\n"
     ]
    }
   ],
   "source": [
    "print(y_train)"
   ]
  },
  {
   "cell_type": "code",
   "execution_count": null,
   "metadata": {},
   "outputs": [],
   "source": []
  },
  {
   "cell_type": "code",
   "execution_count": 22,
   "metadata": {},
   "outputs": [],
   "source": [
    "from lightgbm import LGBMRegressor\n",
    "import sklearn.metrics as metrics\n",
    "from sklearn.metrics import mean_squared_error\n",
    "from sklearn.metrics import mean_squared_log_error\n",
    "from sklearn.model_selection import GridSearchCV\n",
    "from sklearn.metrics import confusion_matrix\n",
    "from sklearn.metrics import accuracy_score\n",
    "from sklearn.metrics import f1_score\n",
    "from sklearn.metrics import r2_score\n",
    "from sklearn.metrics import precision_score\n",
    "from sklearn.metrics import recall_score\n",
    "\n",
    "lgbm_params ={\n",
    "    'learning_rate': 0.1,\n",
    "    'n_estimators': 400,\n",
    "    'num_leaves': 140,\n",
    "    'max_depth' : 60,\n",
    "    'boosting_type' : 'gbdt',\n",
    "    'subsample': 0.9, \n",
    "    'colsample_bytree': 0.8, \n",
    "    'min_child_samples': 20, \n",
    "    'objective': 'regression'\n",
    "             }\n",
    "\n",
    "lgbm_model = LGBMRegressor(**lgbm_params)\n",
    "model = lgbm_model.fit(X_train, y_train, early_stopping_rounds=None,verbose=True)\n",
    "\n",
    "pred_train = lgbm_model.predict(X_train)\n",
    "pred_test  = lgbm_model.predict(X_test)"
   ]
  },
  {
   "cell_type": "code",
   "execution_count": null,
   "metadata": {},
   "outputs": [],
   "source": []
  },
  {
   "cell_type": "code",
   "execution_count": 23,
   "metadata": {},
   "outputs": [
    {
     "name": "stderr",
     "output_type": "stream",
     "text": [
      "Using 200 background data samples could cause slower run times. Consider using shap.sample(data, K) or shap.kmeans(data, K) to summarize the background as K samples.\n"
     ]
    },
    {
     "data": {
      "application/vnd.jupyter.widget-view+json": {
       "model_id": "a68635218cfe46019837f22f8bd2e420",
       "version_major": 2,
       "version_minor": 0
      },
      "text/plain": [
       "HBox(children=(HTML(value=''), FloatProgress(value=0.0, max=40.0), HTML(value='')))"
      ]
     },
     "metadata": {},
     "output_type": "display_data"
    },
    {
     "name": "stdout",
     "output_type": "stream",
     "text": [
      "\n"
     ]
    }
   ],
   "source": [
    "# importing SHAP\n",
    "import shap\n",
    "\n",
    "# sampling data from the training and test set to reduce time-taken\n",
    "X_train_sample = shap.sample(X_train, 200)\n",
    "X_test_sample = shap.sample(X_test, 40)\n",
    "\n",
    "# creating the KernelExplainer using the logistic regression model and training sample\n",
    "SHAP_explainer = shap.KernelExplainer(model.predict, X_train_sample)\n",
    "# calculating the shap values of the test sample using the explainer \n",
    "shap_vals = SHAP_explainer.shap_values(X_test_sample)\n",
    "\n",
    "# converting the test samples to a dataframe \n",
    "# this is necessary for non-tabular data in order for the visualisations \n",
    "# to include feature value\n",
    "colour_test = pd.DataFrame(X_test_sample.todense())"
   ]
  },
  {
   "cell_type": "code",
   "execution_count": 24,
   "metadata": {},
   "outputs": [
    {
     "data": {
      "image/png": "[encoded data removed]",
      "text/plain": [
       "<Figure size 576x684 with 2 Axes>"
      ]
     },
     "metadata": {
      "needs_background": "light"
     },
     "output_type": "display_data"
    }
   ],
   "source": [
    "shap.summary_plot(shap_vals, colour_test, feature_names=tfidf_vectorizer.get_feature_names())"
   ]
  },
  {
   "cell_type": "code",
   "execution_count": null,
   "metadata": {},
   "outputs": [],
   "source": []
  },
  {
   "cell_type": "code",
   "execution_count": null,
   "metadata": {},
   "outputs": [],
   "source": []
  },
  {
   "cell_type": "code",
   "execution_count": null,
   "metadata": {},
   "outputs": [],
   "source": []
  },
  {
   "cell_type": "code",
   "execution_count": null,
   "metadata": {},
   "outputs": [],
   "source": []
  },
  {
   "cell_type": "code",
   "execution_count": null,
   "metadata": {},
   "outputs": [],
   "source": []
  },
  {
   "cell_type": "code",
   "execution_count": null,
   "metadata": {},
   "outputs": [],
   "source": []
  }
 ],
 "metadata": {
  "kernelspec": {
   "display_name": "Python 3",
   "language": "python",
   "name": "python3"
  },
  "language_info": {
   "codemirror_mode": {
    "name": "ipython",
    "version": 3
   },
   "file_extension": ".py",
   "mimetype": "text/x-python",
   "name": "python",
   "nbconvert_exporter": "python",
   "pygments_lexer": "ipython3",
   "version": "3.8.5"
  }
 },
 "nbformat": 4,
 "nbformat_minor": 5
}
